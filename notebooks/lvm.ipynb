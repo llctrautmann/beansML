{
 "cells": [
  {
   "cell_type": "code",
   "execution_count": 697,
   "metadata": {},
   "outputs": [],
   "source": [
    "import pandas as pd\n",
    "import numpy as np\n",
    "import torch\n",
    "import torch.nn as nn\n",
    "import torch.optim as optim\n",
    "import torchmetrics as tm\n",
    "from torch.utils.data import TensorDataset, DataLoader\n",
    "from tqdm import tqdm\n",
    "import seaborn as sns\n",
    "import math\n",
    "import matplotlib.pyplot as plt"
   ]
  },
  {
   "cell_type": "code",
   "execution_count": 698,
   "metadata": {},
   "outputs": [],
   "source": [
    "class neural_net(nn.Module):\n",
    "    def __init__(self,input_dim,output_dim):\n",
    "        super(neural_net,self).__init__()\n",
    "        self.layers = nn.Sequential(\n",
    "            nn.Linear(input_dim,12),\n",
    "            nn.ReLU(),\n",
    "            nn.Linear(12, 6),\n",
    "            nn.ReLU(),\n",
    "            nn.Linear(6,output_dim)\n",
    "        )\n",
    "\n",
    "    def forward(self, x):\n",
    "        return self.layers(x)"
   ]
  },
  {
   "cell_type": "code",
   "execution_count": 699,
   "metadata": {},
   "outputs": [],
   "source": [
    "model = neural_net(1,2)"
   ]
  },
  {
   "cell_type": "code",
   "execution_count": 700,
   "metadata": {},
   "outputs": [
    {
     "name": "stdout",
     "output_type": "stream",
     "text": [
      "tensor([[0.8384]])\n"
     ]
    }
   ],
   "source": [
    "tensor = torch.randn(size=(1,1))\n",
    "\n",
    "tensor = torch.tensor([[np.random.normal(0,1)]])\n",
    "\n",
    "print(tensor)"
   ]
  },
  {
   "cell_type": "code",
   "execution_count": 701,
   "metadata": {},
   "outputs": [],
   "source": [
    "mean, variance = model(tensor)[0,0], model(tensor)[0,1]"
   ]
  },
  {
   "cell_type": "code",
   "execution_count": 702,
   "metadata": {},
   "outputs": [],
   "source": [
    "def gaussian_pdf(x, mean, std_dev):\n",
    "    '''\n",
    "    Returns the value of the Gaussian probability density function for a given input x,\n",
    "    mean, and standard deviation.\n",
    "    \n",
    "    Args:\n",
    "    x (float): Input value\n",
    "    mean (float): Mean of the Gaussian distribution\n",
    "    std_dev (float): Standard deviation of the Gaussian distribution\n",
    "    \n",
    "    Returns:\n",
    "    float: Probability density at x for the given Gaussian distribution\n",
    "    '''\n",
    "    variance = std_dev**2\n",
    "    exponent = -((x-mean)**2)/(2*variance)\n",
    "    coeff = 1/(math.sqrt(2*math.pi*variance))\n",
    "    return coeff*math.exp(exponent)"
   ]
  },
  {
   "cell_type": "code",
   "execution_count": 703,
   "metadata": {},
   "outputs": [
    {
     "data": {
      "text/plain": [
       "7.116177155673736e-07"
      ]
     },
     "execution_count": 703,
     "metadata": {},
     "output_type": "execute_result"
    }
   ],
   "source": [
    "gaussian_pdf(0,mean,variance)"
   ]
  },
  {
   "cell_type": "code",
   "execution_count": 704,
   "metadata": {},
   "outputs": [],
   "source": [
    "xs = np.linspace(-3, 3, num=1000)"
   ]
  },
  {
   "cell_type": "code",
   "execution_count": 705,
   "metadata": {},
   "outputs": [],
   "source": [
    "ys = [gaussian_pdf(x,mean,variance) for x in xs]"
   ]
  },
  {
   "cell_type": "code",
   "execution_count": 706,
   "metadata": {},
   "outputs": [
    {
     "data": {
      "text/plain": [
       "[<matplotlib.lines.Line2D at 0x2c81bb4f0>]"
      ]
     },
     "execution_count": 706,
     "metadata": {},
     "output_type": "execute_result"
    },
    {
     "data": {
      "image/png": "[encoded data removed]",
      "text/plain": [
       "<Figure size 640x480 with 1 Axes>"
      ]
     },
     "metadata": {},
     "output_type": "display_data"
    }
   ],
   "source": [
    "plt.plot(xs,ys)"
   ]
  },
  {
   "cell_type": "code",
   "execution_count": 711,
   "metadata": {},
   "outputs": [
    {
     "data": {
      "text/plain": [
       "'NO'"
      ]
     },
     "execution_count": 711,
     "metadata": {},
     "output_type": "execute_result"
    }
   ],
   "source": [
    "import re\n",
    "\n",
    "string = str(00000)\n",
    "\n",
    "\"YES\" if bool(re.search(pattern=\"^[789]\\d{9}$\", string=string)) else \"NO\""
   ]
  },
  {
   "cell_type": "code",
   "execution_count": 714,
   "metadata": {},
   "outputs": [
    {
     "name": "stdout",
     "output_type": "stream",
     "text": [
      "('DOSHI', 'DOSHI@hackerrank.com')\n",
      "DOSHI <DOSHI@hackerrank.com>\n"
     ]
    }
   ],
   "source": [
    "import email.utils\n",
    "\n",
    "string = 'DOSHI <DOSHI@hackerrank.com>'\n",
    "print(email.utils.parseaddr('DOSHI <DOSHI@hackerrank.com>'))\n",
    "print(email.utils.formataddr(('DOSHI', 'DOSHI@hackerrank.com')))\n",
    "\n",
    "name, mail = email.utils.parseaddr(string)"
   ]
  },
  {
   "cell_type": "code",
   "execution_count": 730,
   "metadata": {},
   "outputs": [
    {
     "name": "stdout",
     "output_type": "stream",
     "text": [
      "#FfFdF8\n",
      "#aef\n",
      "#f9f9f9\n",
      "#fff\n",
      "#ABC\n",
      "#fff\n"
     ]
    }
   ],
   "source": [
    "import re\n",
    "l = [\"#BED\",\"{\",\"color: #FfFdF8; background-color:#aef;\",\"font-size: 123px;\",\"background: -webkit-linear-gradient(top, #f9f9f9, #fff);\",\"}\",\"#Cab\",\"{\",\"background-color: #ABC;\",\"border: 2px dashed #fff;\",\"}\"] \n",
    "\n",
    "out = []\n",
    "\n",
    "for i in range(11):\n",
    "    line = l[i]\n",
    "\n",
    "    if line[0] == '#':\n",
    "        continue\n",
    "    \n",
    "    else:\n",
    "        pattern = r'#[0-9A-Fa-f]{3,6}'\n",
    "        matches = re.findall(pattern, line)\n",
    "        out.append(matches)\n",
    "\n",
    "out = [color for sublist in out for color in sublist]\n",
    "for i in range(len(out)):\n",
    "    print(out[i])"
   ]
  },
  {
   "cell_type": "code",
   "execution_count": 734,
   "metadata": {},
   "outputs": [
    {
     "name": "stdout",
     "output_type": "stream",
     "text": [
      "[[0, 0, 0], [0, 0, 1], [0, 0, 2], [0, 1, 0], [0, 1, 1], [1, 0, 0], [1, 0, 1], [1, 1, 0], [1, 1, 2]]\n"
     ]
    }
   ],
   "source": [
    "x = 1\n",
    "y = 1\n",
    "z = 2\n",
    "\n",
    "permutations = []\n",
    "\n",
    "permutations = [[i, j, k] for i in range(x+1) for j in range(y+1) for k in range(z+1)]\n",
    "out = [x for x in permutations if sum(x) != n]\n",
    "\n",
    "print(out)\n"
   ]
  },
  {
   "cell_type": "code",
   "execution_count": 738,
   "metadata": {},
   "outputs": [
    {
     "data": {
      "text/plain": [
       "-5"
      ]
     },
     "execution_count": 738,
     "metadata": {},
     "output_type": "execute_result"
    }
   ],
   "source": [
    "l = [-50,-50,-50,-5,1]\n",
    "\n",
    "list(set(l))[1]"
   ]
  },
  {
   "cell_type": "code",
   "execution_count": 743,
   "metadata": {},
   "outputs": [
    {
     "data": {
      "text/plain": [
       "1000"
      ]
     },
     "execution_count": 743,
     "metadata": {},
     "output_type": "execute_result"
    }
   ],
   "source": [
    "values = [int(x) for x in \"3 1000\".split()]\n",
    "max(values)"
   ]
  },
  {
   "cell_type": "code",
   "execution_count": 751,
   "metadata": {},
   "outputs": [
    {
     "name": "stdout",
     "output_type": "stream",
     "text": [
      "[[-9 -9 -9  1  1  1]\n",
      " [ 0 -9  0  4  3  2]\n",
      " [-9 -9 -9  1  2  3]\n",
      " [ 0  0  8  6  6  0]\n",
      " [ 0  0  0 -2  0  0]\n",
      " [ 0  0  1  2  4  0]]\n"
     ]
    }
   ],
   "source": [
    "data = [[-9, -9, -9, 1, 1, 1],\n",
    "  [0, -9, 0, 4, 3, 2],\n",
    "  [-9, -9, -9, 1, 2, 3],\n",
    "  [0, 0, 8, 6, 6, 0],\n",
    "  [0, 0, 0, -2, 0, 0],\n",
    "  [0, 0, 1, 2, 4, 0]]\n",
    "\n",
    "print(np.array(data))"
   ]
  },
  {
   "cell_type": "code",
   "execution_count": 761,
   "metadata": {},
   "outputs": [],
   "source": [
    "def hourglassSum(arr):\n",
    "    values = []\n",
    "    for i in range(1,5):\n",
    "        for j in range(1,5):\n",
    "            a = arr[i-1][j-1]\n",
    "            b = arr[i-1][j]\n",
    "            c = arr[i+1][j-1]\n",
    "            d = arr[i][j]\n",
    "            e = arr[i-1][j+1]\n",
    "            f = arr[i+1][j]\n",
    "            g = arr[i+1][j+1]\n",
    "\n",
    "            values.append(a+b+c+d+e+f+g)\n",
    "\n",
    "    return max(values)\n",
    "            "
   ]
  },
  {
   "cell_type": "code",
   "execution_count": 762,
   "metadata": {},
   "outputs": [
    {
     "name": "stdout",
     "output_type": "stream",
     "text": [
      "-9 -9 -9 -9 -9 -9 -9\n",
      "[-63]\n"
     ]
    },
    {
     "data": {
      "text/plain": [
       "-63"
      ]
     },
     "execution_count": 762,
     "metadata": {},
     "output_type": "execute_result"
    }
   ],
   "source": [
    "hourglassSum(data)"
   ]
  },
  {
   "cell_type": "code",
   "execution_count": null,
   "metadata": {},
   "outputs": [],
   "source": []
  }
 ],
 "metadata": {
  "kernelspec": {
   "display_name": ".venv",
   "language": "python",
   "name": "python3"
  },
  "language_info": {
   "codemirror_mode": {
    "name": "ipython",
    "version": 3
   },
   "file_extension": ".py",
   "mimetype": "text/x-python",
   "name": "python",
   "nbconvert_exporter": "python",
   "pygments_lexer": "ipython3",
   "version": "3.10.1"
  },
  "orig_nbformat": 4
 },
 "nbformat": 4,
 "nbformat_minor": 2
}
